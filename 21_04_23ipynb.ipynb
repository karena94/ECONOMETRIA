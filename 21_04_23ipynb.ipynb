{
  "nbformat": 4,
  "nbformat_minor": 0,
  "metadata": {
    "colab": {
      "provenance": []
    },
    "kernelspec": {
      "name": "python3",
      "display_name": "Python 3"
    },
    "language_info": {
      "name": "python"
    }
  },
  "cells": [
    {
      "cell_type": "markdown",
      "source": [
        "#Taller Econometria \n",
        "\n",
        "*   Natalia Forero Avila\n",
        "*   Karen Acosta Enciso \n",
        "\n"
      ],
      "metadata": {
        "id": "VTZYNLJu0Q3v"
      }
    },
    {
      "cell_type": "markdown",
      "source": [
        "1. Instale la librería wooldridge e importe numpy y pandas."
      ],
      "metadata": {
        "id": "O6_gKVjPBMf0"
      }
    },
    {
      "cell_type": "code",
      "source": [
        "!pip install wooldridge \n",
        "import pandas as pd\n",
        "import numpy as np\n",
        "import wooldridge as wd"
      ],
      "metadata": {
        "colab": {
          "base_uri": "https://localhost:8080/"
        },
        "id": "vwPP6jTeOflD",
        "outputId": "9bb982ce-7841-4968-9f3b-e540c7c847fb"
      },
      "execution_count": null,
      "outputs": [
        {
          "output_type": "stream",
          "name": "stdout",
          "text": [
            "Looking in indexes: https://pypi.org/simple, https://us-python.pkg.dev/colab-wheels/public/simple/\n",
            "Collecting wooldridge\n",
            "  Downloading wooldridge-0.4.4-py3-none-any.whl (5.1 MB)\n",
            "\u001b[2K     \u001b[90m━━━━━━━━━━━━━━━━━━━━━━━━━━━━━━━━━━━━━━━━\u001b[0m \u001b[32m5.1/5.1 MB\u001b[0m \u001b[31m42.5 MB/s\u001b[0m eta \u001b[36m0:00:00\u001b[0m\n",
            "\u001b[?25hRequirement already satisfied: pandas in /usr/local/lib/python3.9/dist-packages (from wooldridge) (1.5.3)\n",
            "Requirement already satisfied: python-dateutil>=2.8.1 in /usr/local/lib/python3.9/dist-packages (from pandas->wooldridge) (2.8.2)\n",
            "Requirement already satisfied: numpy>=1.20.3 in /usr/local/lib/python3.9/dist-packages (from pandas->wooldridge) (1.22.4)\n",
            "Requirement already satisfied: pytz>=2020.1 in /usr/local/lib/python3.9/dist-packages (from pandas->wooldridge) (2022.7.1)\n",
            "Requirement already satisfied: six>=1.5 in /usr/local/lib/python3.9/dist-packages (from python-dateutil>=2.8.1->pandas->wooldridge) (1.16.0)\n",
            "Installing collected packages: wooldridge\n",
            "Successfully installed wooldridge-0.4.4\n"
          ]
        }
      ]
    },
    {
      "cell_type": "markdown",
      "source": [
        "2.Cargue el dataset wage1 y guárdelo en una variable. Conserve únicamente las columnas exper, educ y wage"
      ],
      "metadata": {
        "id": "8egB_63bBRfH"
      }
    },
    {
      "cell_type": "code",
      "source": [
        "df=wd.data(\"wage1\")\n",
        "df"
      ],
      "metadata": {
        "colab": {
          "base_uri": "https://localhost:8080/",
          "height": 488
        },
        "id": "KXTihS6UNuL0",
        "outputId": "8306eefc-f081-46ec-efa7-5c472dc3fd76"
      },
      "execution_count": null,
      "outputs": [
        {
          "output_type": "execute_result",
          "data": {
            "text/plain": [
              "      wage  educ  exper  tenure  nonwhite  female  married  numdep  smsa  \\\n",
              "0     3.10    11      2       0         0       1        0       2     1   \n",
              "1     3.24    12     22       2         0       1        1       3     1   \n",
              "2     3.00    11      2       0         0       0        0       2     0   \n",
              "3     6.00     8     44      28         0       0        1       0     1   \n",
              "4     5.30    12      7       2         0       0        1       1     0   \n",
              "..     ...   ...    ...     ...       ...     ...      ...     ...   ...   \n",
              "521  15.00    16     14       2         0       1        1       2     0   \n",
              "522   2.27    10      2       0         0       1        0       3     0   \n",
              "523   4.67    15     13      18         0       0        1       3     0   \n",
              "524  11.56    16      5       1         0       0        1       0     0   \n",
              "525   3.50    14      5       4         1       1        0       2     0   \n",
              "\n",
              "     northcen  ...  trcommpu  trade  services  profserv  profocc  clerocc  \\\n",
              "0           0  ...         0      0         0         0        0        0   \n",
              "1           0  ...         0      0         1         0        0        0   \n",
              "2           0  ...         0      1         0         0        0        0   \n",
              "3           0  ...         0      0         0         0        0        1   \n",
              "4           0  ...         0      0         0         0        0        0   \n",
              "..        ...  ...       ...    ...       ...       ...      ...      ...   \n",
              "521         0  ...         0      0         0         1        1        0   \n",
              "522         0  ...         0      1         0         0        1        0   \n",
              "523         0  ...         0      0         0         0        1        0   \n",
              "524         0  ...         0      0         0         0        0        0   \n",
              "525         0  ...         0      0         0         1        0        1   \n",
              "\n",
              "     servocc     lwage  expersq  tenursq  \n",
              "0          0  1.131402        4        0  \n",
              "1          1  1.175573      484        4  \n",
              "2          0  1.098612        4        0  \n",
              "3          0  1.791759     1936      784  \n",
              "4          0  1.667707       49        4  \n",
              "..       ...       ...      ...      ...  \n",
              "521        0  2.708050      196        4  \n",
              "522        0  0.819780        4        0  \n",
              "523        0  1.541159      169      324  \n",
              "524        0  2.447551       25        1  \n",
              "525        0  1.252763       25       16  \n",
              "\n",
              "[526 rows x 24 columns]"
            ],
            "text/html": [
              "\n",
              "  <div id=\"df-a3580dba-d939-4c50-95cd-cd3b1a34e0ce\">\n",
              "    <div class=\"colab-df-container\">\n",
              "      <div>\n",
              "<style scoped>\n",
              "    .dataframe tbody tr th:only-of-type {\n",
              "        vertical-align: middle;\n",
              "    }\n",
              "\n",
              "    .dataframe tbody tr th {\n",
              "        vertical-align: top;\n",
              "    }\n",
              "\n",
              "    .dataframe thead th {\n",
              "        text-align: right;\n",
              "    }\n",
              "</style>\n",
              "<table border=\"1\" class=\"dataframe\">\n",
              "  <thead>\n",
              "    <tr style=\"text-align: right;\">\n",
              "      <th></th>\n",
              "      <th>wage</th>\n",
              "      <th>educ</th>\n",
              "      <th>exper</th>\n",
              "      <th>tenure</th>\n",
              "      <th>nonwhite</th>\n",
              "      <th>female</th>\n",
              "      <th>married</th>\n",
              "      <th>numdep</th>\n",
              "      <th>smsa</th>\n",
              "      <th>northcen</th>\n",
              "      <th>...</th>\n",
              "      <th>trcommpu</th>\n",
              "      <th>trade</th>\n",
              "      <th>services</th>\n",
              "      <th>profserv</th>\n",
              "      <th>profocc</th>\n",
              "      <th>clerocc</th>\n",
              "      <th>servocc</th>\n",
              "      <th>lwage</th>\n",
              "      <th>expersq</th>\n",
              "      <th>tenursq</th>\n",
              "    </tr>\n",
              "  </thead>\n",
              "  <tbody>\n",
              "    <tr>\n",
              "      <th>0</th>\n",
              "      <td>3.10</td>\n",
              "      <td>11</td>\n",
              "      <td>2</td>\n",
              "      <td>0</td>\n",
              "      <td>0</td>\n",
              "      <td>1</td>\n",
              "      <td>0</td>\n",
              "      <td>2</td>\n",
              "      <td>1</td>\n",
              "      <td>0</td>\n",
              "      <td>...</td>\n",
              "      <td>0</td>\n",
              "      <td>0</td>\n",
              "      <td>0</td>\n",
              "      <td>0</td>\n",
              "      <td>0</td>\n",
              "      <td>0</td>\n",
              "      <td>0</td>\n",
              "      <td>1.131402</td>\n",
              "      <td>4</td>\n",
              "      <td>0</td>\n",
              "    </tr>\n",
              "    <tr>\n",
              "      <th>1</th>\n",
              "      <td>3.24</td>\n",
              "      <td>12</td>\n",
              "      <td>22</td>\n",
              "      <td>2</td>\n",
              "      <td>0</td>\n",
              "      <td>1</td>\n",
              "      <td>1</td>\n",
              "      <td>3</td>\n",
              "      <td>1</td>\n",
              "      <td>0</td>\n",
              "      <td>...</td>\n",
              "      <td>0</td>\n",
              "      <td>0</td>\n",
              "      <td>1</td>\n",
              "      <td>0</td>\n",
              "      <td>0</td>\n",
              "      <td>0</td>\n",
              "      <td>1</td>\n",
              "      <td>1.175573</td>\n",
              "      <td>484</td>\n",
              "      <td>4</td>\n",
              "    </tr>\n",
              "    <tr>\n",
              "      <th>2</th>\n",
              "      <td>3.00</td>\n",
              "      <td>11</td>\n",
              "      <td>2</td>\n",
              "      <td>0</td>\n",
              "      <td>0</td>\n",
              "      <td>0</td>\n",
              "      <td>0</td>\n",
              "      <td>2</td>\n",
              "      <td>0</td>\n",
              "      <td>0</td>\n",
              "      <td>...</td>\n",
              "      <td>0</td>\n",
              "      <td>1</td>\n",
              "      <td>0</td>\n",
              "      <td>0</td>\n",
              "      <td>0</td>\n",
              "      <td>0</td>\n",
              "      <td>0</td>\n",
              "      <td>1.098612</td>\n",
              "      <td>4</td>\n",
              "      <td>0</td>\n",
              "    </tr>\n",
              "    <tr>\n",
              "      <th>3</th>\n",
              "      <td>6.00</td>\n",
              "      <td>8</td>\n",
              "      <td>44</td>\n",
              "      <td>28</td>\n",
              "      <td>0</td>\n",
              "      <td>0</td>\n",
              "      <td>1</td>\n",
              "      <td>0</td>\n",
              "      <td>1</td>\n",
              "      <td>0</td>\n",
              "      <td>...</td>\n",
              "      <td>0</td>\n",
              "      <td>0</td>\n",
              "      <td>0</td>\n",
              "      <td>0</td>\n",
              "      <td>0</td>\n",
              "      <td>1</td>\n",
              "      <td>0</td>\n",
              "      <td>1.791759</td>\n",
              "      <td>1936</td>\n",
              "      <td>784</td>\n",
              "    </tr>\n",
              "    <tr>\n",
              "      <th>4</th>\n",
              "      <td>5.30</td>\n",
              "      <td>12</td>\n",
              "      <td>7</td>\n",
              "      <td>2</td>\n",
              "      <td>0</td>\n",
              "      <td>0</td>\n",
              "      <td>1</td>\n",
              "      <td>1</td>\n",
              "      <td>0</td>\n",
              "      <td>0</td>\n",
              "      <td>...</td>\n",
              "      <td>0</td>\n",
              "      <td>0</td>\n",
              "      <td>0</td>\n",
              "      <td>0</td>\n",
              "      <td>0</td>\n",
              "      <td>0</td>\n",
              "      <td>0</td>\n",
              "      <td>1.667707</td>\n",
              "      <td>49</td>\n",
              "      <td>4</td>\n",
              "    </tr>\n",
              "    <tr>\n",
              "      <th>...</th>\n",
              "      <td>...</td>\n",
              "      <td>...</td>\n",
              "      <td>...</td>\n",
              "      <td>...</td>\n",
              "      <td>...</td>\n",
              "      <td>...</td>\n",
              "      <td>...</td>\n",
              "      <td>...</td>\n",
              "      <td>...</td>\n",
              "      <td>...</td>\n",
              "      <td>...</td>\n",
              "      <td>...</td>\n",
              "      <td>...</td>\n",
              "      <td>...</td>\n",
              "      <td>...</td>\n",
              "      <td>...</td>\n",
              "      <td>...</td>\n",
              "      <td>...</td>\n",
              "      <td>...</td>\n",
              "      <td>...</td>\n",
              "      <td>...</td>\n",
              "    </tr>\n",
              "    <tr>\n",
              "      <th>521</th>\n",
              "      <td>15.00</td>\n",
              "      <td>16</td>\n",
              "      <td>14</td>\n",
              "      <td>2</td>\n",
              "      <td>0</td>\n",
              "      <td>1</td>\n",
              "      <td>1</td>\n",
              "      <td>2</td>\n",
              "      <td>0</td>\n",
              "      <td>0</td>\n",
              "      <td>...</td>\n",
              "      <td>0</td>\n",
              "      <td>0</td>\n",
              "      <td>0</td>\n",
              "      <td>1</td>\n",
              "      <td>1</td>\n",
              "      <td>0</td>\n",
              "      <td>0</td>\n",
              "      <td>2.708050</td>\n",
              "      <td>196</td>\n",
              "      <td>4</td>\n",
              "    </tr>\n",
              "    <tr>\n",
              "      <th>522</th>\n",
              "      <td>2.27</td>\n",
              "      <td>10</td>\n",
              "      <td>2</td>\n",
              "      <td>0</td>\n",
              "      <td>0</td>\n",
              "      <td>1</td>\n",
              "      <td>0</td>\n",
              "      <td>3</td>\n",
              "      <td>0</td>\n",
              "      <td>0</td>\n",
              "      <td>...</td>\n",
              "      <td>0</td>\n",
              "      <td>1</td>\n",
              "      <td>0</td>\n",
              "      <td>0</td>\n",
              "      <td>1</td>\n",
              "      <td>0</td>\n",
              "      <td>0</td>\n",
              "      <td>0.819780</td>\n",
              "      <td>4</td>\n",
              "      <td>0</td>\n",
              "    </tr>\n",
              "    <tr>\n",
              "      <th>523</th>\n",
              "      <td>4.67</td>\n",
              "      <td>15</td>\n",
              "      <td>13</td>\n",
              "      <td>18</td>\n",
              "      <td>0</td>\n",
              "      <td>0</td>\n",
              "      <td>1</td>\n",
              "      <td>3</td>\n",
              "      <td>0</td>\n",
              "      <td>0</td>\n",
              "      <td>...</td>\n",
              "      <td>0</td>\n",
              "      <td>0</td>\n",
              "      <td>0</td>\n",
              "      <td>0</td>\n",
              "      <td>1</td>\n",
              "      <td>0</td>\n",
              "      <td>0</td>\n",
              "      <td>1.541159</td>\n",
              "      <td>169</td>\n",
              "      <td>324</td>\n",
              "    </tr>\n",
              "    <tr>\n",
              "      <th>524</th>\n",
              "      <td>11.56</td>\n",
              "      <td>16</td>\n",
              "      <td>5</td>\n",
              "      <td>1</td>\n",
              "      <td>0</td>\n",
              "      <td>0</td>\n",
              "      <td>1</td>\n",
              "      <td>0</td>\n",
              "      <td>0</td>\n",
              "      <td>0</td>\n",
              "      <td>...</td>\n",
              "      <td>0</td>\n",
              "      <td>0</td>\n",
              "      <td>0</td>\n",
              "      <td>0</td>\n",
              "      <td>0</td>\n",
              "      <td>0</td>\n",
              "      <td>0</td>\n",
              "      <td>2.447551</td>\n",
              "      <td>25</td>\n",
              "      <td>1</td>\n",
              "    </tr>\n",
              "    <tr>\n",
              "      <th>525</th>\n",
              "      <td>3.50</td>\n",
              "      <td>14</td>\n",
              "      <td>5</td>\n",
              "      <td>4</td>\n",
              "      <td>1</td>\n",
              "      <td>1</td>\n",
              "      <td>0</td>\n",
              "      <td>2</td>\n",
              "      <td>0</td>\n",
              "      <td>0</td>\n",
              "      <td>...</td>\n",
              "      <td>0</td>\n",
              "      <td>0</td>\n",
              "      <td>0</td>\n",
              "      <td>1</td>\n",
              "      <td>0</td>\n",
              "      <td>1</td>\n",
              "      <td>0</td>\n",
              "      <td>1.252763</td>\n",
              "      <td>25</td>\n",
              "      <td>16</td>\n",
              "    </tr>\n",
              "  </tbody>\n",
              "</table>\n",
              "<p>526 rows × 24 columns</p>\n",
              "</div>\n",
              "      <button class=\"colab-df-convert\" onclick=\"convertToInteractive('df-a3580dba-d939-4c50-95cd-cd3b1a34e0ce')\"\n",
              "              title=\"Convert this dataframe to an interactive table.\"\n",
              "              style=\"display:none;\">\n",
              "        \n",
              "  <svg xmlns=\"http://www.w3.org/2000/svg\" height=\"24px\"viewBox=\"0 0 24 24\"\n",
              "       width=\"24px\">\n",
              "    <path d=\"M0 0h24v24H0V0z\" fill=\"none\"/>\n",
              "    <path d=\"M18.56 5.44l.94 2.06.94-2.06 2.06-.94-2.06-.94-.94-2.06-.94 2.06-2.06.94zm-11 1L8.5 8.5l.94-2.06 2.06-.94-2.06-.94L8.5 2.5l-.94 2.06-2.06.94zm10 10l.94 2.06.94-2.06 2.06-.94-2.06-.94-.94-2.06-.94 2.06-2.06.94z\"/><path d=\"M17.41 7.96l-1.37-1.37c-.4-.4-.92-.59-1.43-.59-.52 0-1.04.2-1.43.59L10.3 9.45l-7.72 7.72c-.78.78-.78 2.05 0 2.83L4 21.41c.39.39.9.59 1.41.59.51 0 1.02-.2 1.41-.59l7.78-7.78 2.81-2.81c.8-.78.8-2.07 0-2.86zM5.41 20L4 18.59l7.72-7.72 1.47 1.35L5.41 20z\"/>\n",
              "  </svg>\n",
              "      </button>\n",
              "      \n",
              "  <style>\n",
              "    .colab-df-container {\n",
              "      display:flex;\n",
              "      flex-wrap:wrap;\n",
              "      gap: 12px;\n",
              "    }\n",
              "\n",
              "    .colab-df-convert {\n",
              "      background-color: #E8F0FE;\n",
              "      border: none;\n",
              "      border-radius: 50%;\n",
              "      cursor: pointer;\n",
              "      display: none;\n",
              "      fill: #1967D2;\n",
              "      height: 32px;\n",
              "      padding: 0 0 0 0;\n",
              "      width: 32px;\n",
              "    }\n",
              "\n",
              "    .colab-df-convert:hover {\n",
              "      background-color: #E2EBFA;\n",
              "      box-shadow: 0px 1px 2px rgba(60, 64, 67, 0.3), 0px 1px 3px 1px rgba(60, 64, 67, 0.15);\n",
              "      fill: #174EA6;\n",
              "    }\n",
              "\n",
              "    [theme=dark] .colab-df-convert {\n",
              "      background-color: #3B4455;\n",
              "      fill: #D2E3FC;\n",
              "    }\n",
              "\n",
              "    [theme=dark] .colab-df-convert:hover {\n",
              "      background-color: #434B5C;\n",
              "      box-shadow: 0px 1px 3px 1px rgba(0, 0, 0, 0.15);\n",
              "      filter: drop-shadow(0px 1px 2px rgba(0, 0, 0, 0.3));\n",
              "      fill: #FFFFFF;\n",
              "    }\n",
              "  </style>\n",
              "\n",
              "      <script>\n",
              "        const buttonEl =\n",
              "          document.querySelector('#df-a3580dba-d939-4c50-95cd-cd3b1a34e0ce button.colab-df-convert');\n",
              "        buttonEl.style.display =\n",
              "          google.colab.kernel.accessAllowed ? 'block' : 'none';\n",
              "\n",
              "        async function convertToInteractive(key) {\n",
              "          const element = document.querySelector('#df-a3580dba-d939-4c50-95cd-cd3b1a34e0ce');\n",
              "          const dataTable =\n",
              "            await google.colab.kernel.invokeFunction('convertToInteractive',\n",
              "                                                     [key], {});\n",
              "          if (!dataTable) return;\n",
              "\n",
              "          const docLinkHtml = 'Like what you see? Visit the ' +\n",
              "            '<a target=\"_blank\" href=https://colab.research.google.com/notebooks/data_table.ipynb>data table notebook</a>'\n",
              "            + ' to learn more about interactive tables.';\n",
              "          element.innerHTML = '';\n",
              "          dataTable['output_type'] = 'display_data';\n",
              "          await google.colab.output.renderOutput(dataTable, element);\n",
              "          const docLink = document.createElement('div');\n",
              "          docLink.innerHTML = docLinkHtml;\n",
              "          element.appendChild(docLink);\n",
              "        }\n",
              "      </script>\n",
              "    </div>\n",
              "  </div>\n",
              "  "
            ]
          },
          "metadata": {},
          "execution_count": 7
        }
      ]
    },
    {
      "cell_type": "code",
      "source": [
        "dv=df[[\"wage\",\"educ\",\"exper\"]] \n",
        "dv"
      ],
      "metadata": {
        "colab": {
          "base_uri": "https://localhost:8080/",
          "height": 424
        },
        "id": "vbU9r2dxPH6T",
        "outputId": "83f3f522-53b1-4804-d31a-98f65f49e306"
      },
      "execution_count": null,
      "outputs": [
        {
          "output_type": "execute_result",
          "data": {
            "text/plain": [
              "      wage  educ  exper\n",
              "0     3.10    11      2\n",
              "1     3.24    12     22\n",
              "2     3.00    11      2\n",
              "3     6.00     8     44\n",
              "4     5.30    12      7\n",
              "..     ...   ...    ...\n",
              "521  15.00    16     14\n",
              "522   2.27    10      2\n",
              "523   4.67    15     13\n",
              "524  11.56    16      5\n",
              "525   3.50    14      5\n",
              "\n",
              "[526 rows x 3 columns]"
            ],
            "text/html": [
              "\n",
              "  <div id=\"df-54d7ec9f-cbb8-4aaa-90e7-b5b024452256\">\n",
              "    <div class=\"colab-df-container\">\n",
              "      <div>\n",
              "<style scoped>\n",
              "    .dataframe tbody tr th:only-of-type {\n",
              "        vertical-align: middle;\n",
              "    }\n",
              "\n",
              "    .dataframe tbody tr th {\n",
              "        vertical-align: top;\n",
              "    }\n",
              "\n",
              "    .dataframe thead th {\n",
              "        text-align: right;\n",
              "    }\n",
              "</style>\n",
              "<table border=\"1\" class=\"dataframe\">\n",
              "  <thead>\n",
              "    <tr style=\"text-align: right;\">\n",
              "      <th></th>\n",
              "      <th>wage</th>\n",
              "      <th>educ</th>\n",
              "      <th>exper</th>\n",
              "    </tr>\n",
              "  </thead>\n",
              "  <tbody>\n",
              "    <tr>\n",
              "      <th>0</th>\n",
              "      <td>3.10</td>\n",
              "      <td>11</td>\n",
              "      <td>2</td>\n",
              "    </tr>\n",
              "    <tr>\n",
              "      <th>1</th>\n",
              "      <td>3.24</td>\n",
              "      <td>12</td>\n",
              "      <td>22</td>\n",
              "    </tr>\n",
              "    <tr>\n",
              "      <th>2</th>\n",
              "      <td>3.00</td>\n",
              "      <td>11</td>\n",
              "      <td>2</td>\n",
              "    </tr>\n",
              "    <tr>\n",
              "      <th>3</th>\n",
              "      <td>6.00</td>\n",
              "      <td>8</td>\n",
              "      <td>44</td>\n",
              "    </tr>\n",
              "    <tr>\n",
              "      <th>4</th>\n",
              "      <td>5.30</td>\n",
              "      <td>12</td>\n",
              "      <td>7</td>\n",
              "    </tr>\n",
              "    <tr>\n",
              "      <th>...</th>\n",
              "      <td>...</td>\n",
              "      <td>...</td>\n",
              "      <td>...</td>\n",
              "    </tr>\n",
              "    <tr>\n",
              "      <th>521</th>\n",
              "      <td>15.00</td>\n",
              "      <td>16</td>\n",
              "      <td>14</td>\n",
              "    </tr>\n",
              "    <tr>\n",
              "      <th>522</th>\n",
              "      <td>2.27</td>\n",
              "      <td>10</td>\n",
              "      <td>2</td>\n",
              "    </tr>\n",
              "    <tr>\n",
              "      <th>523</th>\n",
              "      <td>4.67</td>\n",
              "      <td>15</td>\n",
              "      <td>13</td>\n",
              "    </tr>\n",
              "    <tr>\n",
              "      <th>524</th>\n",
              "      <td>11.56</td>\n",
              "      <td>16</td>\n",
              "      <td>5</td>\n",
              "    </tr>\n",
              "    <tr>\n",
              "      <th>525</th>\n",
              "      <td>3.50</td>\n",
              "      <td>14</td>\n",
              "      <td>5</td>\n",
              "    </tr>\n",
              "  </tbody>\n",
              "</table>\n",
              "<p>526 rows × 3 columns</p>\n",
              "</div>\n",
              "      <button class=\"colab-df-convert\" onclick=\"convertToInteractive('df-54d7ec9f-cbb8-4aaa-90e7-b5b024452256')\"\n",
              "              title=\"Convert this dataframe to an interactive table.\"\n",
              "              style=\"display:none;\">\n",
              "        \n",
              "  <svg xmlns=\"http://www.w3.org/2000/svg\" height=\"24px\"viewBox=\"0 0 24 24\"\n",
              "       width=\"24px\">\n",
              "    <path d=\"M0 0h24v24H0V0z\" fill=\"none\"/>\n",
              "    <path d=\"M18.56 5.44l.94 2.06.94-2.06 2.06-.94-2.06-.94-.94-2.06-.94 2.06-2.06.94zm-11 1L8.5 8.5l.94-2.06 2.06-.94-2.06-.94L8.5 2.5l-.94 2.06-2.06.94zm10 10l.94 2.06.94-2.06 2.06-.94-2.06-.94-.94-2.06-.94 2.06-2.06.94z\"/><path d=\"M17.41 7.96l-1.37-1.37c-.4-.4-.92-.59-1.43-.59-.52 0-1.04.2-1.43.59L10.3 9.45l-7.72 7.72c-.78.78-.78 2.05 0 2.83L4 21.41c.39.39.9.59 1.41.59.51 0 1.02-.2 1.41-.59l7.78-7.78 2.81-2.81c.8-.78.8-2.07 0-2.86zM5.41 20L4 18.59l7.72-7.72 1.47 1.35L5.41 20z\"/>\n",
              "  </svg>\n",
              "      </button>\n",
              "      \n",
              "  <style>\n",
              "    .colab-df-container {\n",
              "      display:flex;\n",
              "      flex-wrap:wrap;\n",
              "      gap: 12px;\n",
              "    }\n",
              "\n",
              "    .colab-df-convert {\n",
              "      background-color: #E8F0FE;\n",
              "      border: none;\n",
              "      border-radius: 50%;\n",
              "      cursor: pointer;\n",
              "      display: none;\n",
              "      fill: #1967D2;\n",
              "      height: 32px;\n",
              "      padding: 0 0 0 0;\n",
              "      width: 32px;\n",
              "    }\n",
              "\n",
              "    .colab-df-convert:hover {\n",
              "      background-color: #E2EBFA;\n",
              "      box-shadow: 0px 1px 2px rgba(60, 64, 67, 0.3), 0px 1px 3px 1px rgba(60, 64, 67, 0.15);\n",
              "      fill: #174EA6;\n",
              "    }\n",
              "\n",
              "    [theme=dark] .colab-df-convert {\n",
              "      background-color: #3B4455;\n",
              "      fill: #D2E3FC;\n",
              "    }\n",
              "\n",
              "    [theme=dark] .colab-df-convert:hover {\n",
              "      background-color: #434B5C;\n",
              "      box-shadow: 0px 1px 3px 1px rgba(0, 0, 0, 0.15);\n",
              "      filter: drop-shadow(0px 1px 2px rgba(0, 0, 0, 0.3));\n",
              "      fill: #FFFFFF;\n",
              "    }\n",
              "  </style>\n",
              "\n",
              "      <script>\n",
              "        const buttonEl =\n",
              "          document.querySelector('#df-54d7ec9f-cbb8-4aaa-90e7-b5b024452256 button.colab-df-convert');\n",
              "        buttonEl.style.display =\n",
              "          google.colab.kernel.accessAllowed ? 'block' : 'none';\n",
              "\n",
              "        async function convertToInteractive(key) {\n",
              "          const element = document.querySelector('#df-54d7ec9f-cbb8-4aaa-90e7-b5b024452256');\n",
              "          const dataTable =\n",
              "            await google.colab.kernel.invokeFunction('convertToInteractive',\n",
              "                                                     [key], {});\n",
              "          if (!dataTable) return;\n",
              "\n",
              "          const docLinkHtml = 'Like what you see? Visit the ' +\n",
              "            '<a target=\"_blank\" href=https://colab.research.google.com/notebooks/data_table.ipynb>data table notebook</a>'\n",
              "            + ' to learn more about interactive tables.';\n",
              "          element.innerHTML = '';\n",
              "          dataTable['output_type'] = 'display_data';\n",
              "          await google.colab.output.renderOutput(dataTable, element);\n",
              "          const docLink = document.createElement('div');\n",
              "          docLink.innerHTML = docLinkHtml;\n",
              "          element.appendChild(docLink);\n",
              "        }\n",
              "      </script>\n",
              "    </div>\n",
              "  </div>\n",
              "  "
            ]
          },
          "metadata": {},
          "execution_count": 8
        }
      ]
    },
    {
      "cell_type": "code",
      "source": [
        "Y=dv[\"wage\"]\n",
        "X=dv[[\"educ\",\"exper\"]] "
      ],
      "metadata": {
        "id": "G0qlJVYaUSpx"
      },
      "execution_count": null,
      "outputs": []
    },
    {
      "cell_type": "markdown",
      "source": [
        "3. Pase el dataframe a un array de numpy."
      ],
      "metadata": {
        "id": "R4AQO88BBcW5"
      }
    },
    {
      "cell_type": "code",
      "source": [
        "array1=Y.to_numpy()\n",
        "array1"
      ],
      "metadata": {
        "colab": {
          "base_uri": "https://localhost:8080/"
        },
        "id": "g9FNnkhyWrMF",
        "outputId": "7e80d2cf-657b-448a-fe7a-ccd7285ebe98"
      },
      "execution_count": null,
      "outputs": [
        {
          "output_type": "execute_result",
          "data": {
            "text/plain": [
              "array([ 3.0999999 ,  3.24000001,  3.        ,  6.        ,  5.30000019,\n",
              "        8.75      , 11.25      ,  5.        ,  3.5999999 , 18.18000031,\n",
              "        6.25      ,  8.13000011,  8.77000046,  5.5       , 22.20000076,\n",
              "       17.32999992,  7.5       , 10.63000011,  3.5999999 ,  4.5       ,\n",
              "        6.88000011,  8.47999954,  6.32999992,  0.52999997,  6.        ,\n",
              "        9.56000042,  7.78000021, 12.5       , 12.5       ,  3.25      ,\n",
              "       13.        ,  4.5       ,  9.68000031,  5.        ,  4.67999983,\n",
              "        4.26999998,  6.1500001 ,  3.50999999,  3.        ,  6.25      ,\n",
              "        7.80999994, 10.        ,  4.5       ,  4.        ,  6.38000011,\n",
              "       13.69999981,  1.66999996,  2.93000007,  3.6500001 ,  2.9000001 ,\n",
              "        1.63      ,  8.60000038,  5.        ,  6.        ,  2.5       ,\n",
              "        3.25      ,  3.4000001 , 10.        , 21.62999916,  4.38000011,\n",
              "       11.71000004, 12.39000034,  6.25      ,  3.71000004,  7.78000021,\n",
              "       19.97999954,  6.25      , 10.        ,  5.71000004,  2.        ,\n",
              "        5.71000004, 13.07999992,  4.90999985,  2.91000009,  3.75      ,\n",
              "       11.89999962,  4.        ,  3.0999999 ,  8.44999981,  7.13999987,\n",
              "        4.5       ,  4.6500001 ,  2.9000001 ,  6.67000008,  3.5       ,\n",
              "        3.25999999,  3.25      ,  8.        ,  9.85000038,  7.5       ,\n",
              "        5.90999985, 11.76000023,  3.        ,  4.80999994,  6.5       ,\n",
              "        4.        ,  3.5       , 13.15999985,  4.25      ,  3.5       ,\n",
              "        5.13000011,  3.75      ,  4.5       ,  7.63000011, 15.        ,\n",
              "        6.8499999 , 13.32999992,  6.67000008,  2.52999997,  9.80000019,\n",
              "        3.36999989, 24.97999954,  5.4000001 ,  6.11000013,  4.19999981,\n",
              "        3.75      ,  3.5       ,  3.6400001 ,  3.79999995,  3.        ,\n",
              "        5.        ,  4.63000011,  3.        ,  3.20000005,  3.91000009,\n",
              "        6.42999983,  5.48000002,  1.5       ,  2.9000001 ,  5.        ,\n",
              "        8.92000008,  5.        ,  3.51999998,  2.9000001 ,  4.5       ,\n",
              "        2.25      ,  5.        , 10.        ,  3.75      , 10.        ,\n",
              "       10.94999981,  7.9000001 ,  4.71999979,  5.84000015,  3.82999992,\n",
              "        3.20000005,  2.        ,  4.5       , 11.55000019,  2.1400001 ,\n",
              "        2.38000011,  3.75      ,  5.51999998,  6.5       ,  3.0999999 ,\n",
              "       10.        ,  6.63000011, 10.        ,  2.30999994,  6.88000011,\n",
              "        2.82999992,  3.13000011,  8.        ,  4.5       ,  8.64999962,\n",
              "        2.        ,  4.75      ,  6.25      ,  6.        , 15.38000011,\n",
              "       14.57999992, 12.5       ,  5.25      ,  2.17000008,  7.13999987,\n",
              "        6.21999979,  9.        , 10.        ,  5.76999998,  4.        ,\n",
              "        8.75      ,  6.53000021,  7.5999999 ,  5.        ,  5.        ,\n",
              "       21.86000061,  8.64000034,  3.29999995,  4.44000006,  4.55000019,\n",
              "        3.5       ,  6.25      ,  3.8499999 ,  6.17999983,  2.91000009,\n",
              "        6.25      ,  6.25      ,  9.05000019, 10.        , 11.10999966,\n",
              "        6.88000011,  8.75      , 10.        ,  3.04999995,  3.        ,\n",
              "        5.80000019,  4.0999999 ,  8.        ,  6.1500001 ,  2.70000005,\n",
              "        2.75      ,  3.        ,  3.        ,  7.36000013,  7.5       ,\n",
              "        3.5       ,  8.10000038,  3.75      ,  3.25      ,  5.82999992,\n",
              "        3.5       ,  3.32999992,  4.        ,  3.5       ,  6.25      ,\n",
              "        2.95000005,  5.71000004,  3.        , 22.86000061,  9.        ,\n",
              "        8.32999992,  3.        ,  5.75      ,  6.76000023, 10.        ,\n",
              "        3.        ,  3.5       ,  3.25      ,  4.        ,  2.92000008,\n",
              "        3.05999994,  3.20000005,  4.75      ,  3.        , 18.15999985,\n",
              "        3.5       ,  4.11000013,  1.96000004,  4.28999996,  3.        ,\n",
              "        6.44999981,  5.19999981,  4.5       ,  3.88000011,  3.45000005,\n",
              "       10.90999985,  4.0999999 ,  3.        ,  5.9000001 , 18.        ,\n",
              "        4.        ,  3.        ,  3.54999995,  3.        ,  8.75      ,\n",
              "        2.9000001 ,  6.26000023,  3.5       ,  4.5999999 ,  6.        ,\n",
              "        2.8900001 ,  5.57999992,  4.        ,  6.        ,  4.5       ,\n",
              "        2.92000008,  4.32999992, 18.88999939,  4.28000021,  4.57000017,\n",
              "        6.25      ,  2.95000005,  8.75      ,  8.5       ,  3.75      ,\n",
              "        3.1500001 ,  5.        ,  6.46000004,  2.        ,  4.78999996,\n",
              "        5.78000021,  3.18000007,  4.67999983,  4.0999999 ,  2.91000009,\n",
              "        6.        ,  3.5999999 ,  3.95000005,  7.        ,  3.        ,\n",
              "        6.07999992,  8.63000011,  3.        ,  3.75      ,  2.9000001 ,\n",
              "        3.        ,  6.25      ,  3.5       ,  3.        ,  3.24000001,\n",
              "        8.02000046,  3.32999992,  5.25      ,  6.25      ,  3.5       ,\n",
              "        2.95000005,  3.        ,  4.69000006,  3.73000002,  4.        ,\n",
              "        4.        ,  2.9000001 ,  3.04999995,  5.05000019, 13.94999981,\n",
              "       18.15999985,  6.25      ,  5.25      ,  4.78999996,  3.3499999 ,\n",
              "        3.        ,  8.43000031,  5.69999981, 11.97999954,  3.5       ,\n",
              "        4.23999977,  7.        ,  6.        , 12.22000027,  4.5       ,\n",
              "        3.        ,  2.9000001 , 15.        ,  4.        ,  5.25      ,\n",
              "        4.        ,  3.29999995,  5.05000019,  3.57999992,  5.        ,\n",
              "        4.57000017, 12.5       ,  3.45000005,  4.63000011, 10.        ,\n",
              "        2.92000008,  4.51000023,  6.5       ,  7.5       ,  3.53999996,\n",
              "        4.19999981,  3.50999999,  4.5       ,  3.3499999 ,  2.91000009,\n",
              "        5.25      ,  4.05000019,  3.75      ,  3.4000001 ,  3.        ,\n",
              "        6.28999996,  2.53999996,  4.5       ,  3.13000011,  6.36000013,\n",
              "        4.67999983,  6.80000019,  8.52999973,  4.17000008,  3.75      ,\n",
              "       11.10000038,  3.25999999,  9.13000011,  4.5       ,  3.        ,\n",
              "        8.75      ,  4.13999987,  2.86999989,  3.3499999 ,  6.07999992,\n",
              "        3.        ,  4.19999981,  5.5999999 , 10.        , 12.5       ,\n",
              "        3.75999999,  3.0999999 ,  4.28999996, 10.92000008,  7.5       ,\n",
              "        4.05000019,  4.6500001 ,  5.        ,  2.9000001 ,  8.        ,\n",
              "        8.43000031,  2.92000008,  6.25      ,  6.25      ,  5.11000013,\n",
              "        4.        ,  4.44000006,  6.88000011,  5.42999983,  3.        ,\n",
              "        2.9000001 ,  6.25      ,  4.34000015,  3.25      ,  7.26000023,\n",
              "        6.3499999 ,  5.63000011,  8.75      ,  3.20000005,  3.        ,\n",
              "        3.        , 12.5       ,  2.88000011,  3.3499999 ,  6.5       ,\n",
              "       10.38000011,  4.5       , 10.        ,  3.80999994,  8.80000019,\n",
              "        9.42000008,  6.32999992,  4.        ,  2.9000001 , 20.        ,\n",
              "       11.25      ,  3.5       ,  6.        , 14.38000011,  6.36000013,\n",
              "        3.54999995,  3.        ,  4.5       ,  6.63000011,  9.30000019,\n",
              "        3.        ,  3.25      ,  1.5       ,  5.9000001 ,  8.        ,\n",
              "        2.9000001 ,  3.28999996,  6.5       ,  4.        ,  6.        ,\n",
              "        4.07999992,  3.75      ,  3.04999995,  3.5       ,  2.92000008,\n",
              "        4.5       ,  3.3499999 ,  5.94999981,  8.        ,  3.        ,\n",
              "        5.        ,  5.5       ,  2.6500001 ,  3.        ,  4.5       ,\n",
              "       17.5       ,  8.18000031,  9.09000015, 11.81999969,  3.25      ,\n",
              "        4.5       ,  4.5       ,  3.71000004,  6.5       ,  2.9000001 ,\n",
              "        5.5999999 ,  2.23000002,  5.        ,  8.32999992,  2.9000001 ,\n",
              "        6.25      ,  4.55000019,  3.27999997,  2.29999995,  3.29999995,\n",
              "        3.1500001 , 12.5       ,  5.1500001 ,  3.13000011,  7.25      ,\n",
              "        2.9000001 ,  1.75      ,  2.8900001 ,  2.9000001 , 17.70999908,\n",
              "        6.25      ,  2.5999999 ,  6.63000011,  3.5       ,  6.5       ,\n",
              "        3.        ,  4.38000011, 10.        ,  4.94999981,  9.        ,\n",
              "        1.42999995,  3.07999992,  9.32999992,  7.5       ,  4.75      ,\n",
              "        5.6500001 , 15.        ,  2.26999998,  4.67000008, 11.56000042,\n",
              "        3.5       ])"
            ]
          },
          "metadata": {},
          "execution_count": 25
        }
      ]
    },
    {
      "cell_type": "code",
      "source": [
        "array2=X.to_numpy()\n",
        "array2"
      ],
      "metadata": {
        "colab": {
          "base_uri": "https://localhost:8080/"
        },
        "id": "_5TdQtlYWvXs",
        "outputId": "a2b7e7bf-89cc-40be-cd4b-bd78dd438224"
      },
      "execution_count": null,
      "outputs": [
        {
          "output_type": "execute_result",
          "data": {
            "text/plain": [
              "array([[11,  2],\n",
              "       [12, 22],\n",
              "       [11,  2],\n",
              "       ...,\n",
              "       [15, 13],\n",
              "       [16,  5],\n",
              "       [14,  5]])"
            ]
          },
          "metadata": {},
          "execution_count": 26
        }
      ]
    },
    {
      "cell_type": "code",
      "source": [
        "x=np.c_[np.ones(len(array2)),array2]\n",
        "x\n"
      ],
      "metadata": {
        "colab": {
          "base_uri": "https://localhost:8080/"
        },
        "id": "14W2-KW7YZZU",
        "outputId": "0ab5b83e-5871-4bbf-f6f7-028ab4d5a4dd"
      },
      "execution_count": null,
      "outputs": [
        {
          "output_type": "execute_result",
          "data": {
            "text/plain": [
              "array([[ 1., 11.,  2.],\n",
              "       [ 1., 12., 22.],\n",
              "       [ 1., 11.,  2.],\n",
              "       ...,\n",
              "       [ 1., 15., 13.],\n",
              "       [ 1., 16.,  5.],\n",
              "       [ 1., 14.,  5.]])"
            ]
          },
          "metadata": {},
          "execution_count": 28
        }
      ]
    },
    {
      "cell_type": "markdown",
      "source": [
        "4. Sin ayuda de otra librería diferente a numpy:"
      ],
      "metadata": {
        "id": "XlJLCsRLBiyp"
      }
    },
    {
      "cell_type": "markdown",
      "source": [
        "A. Calcule los coeficientes"
      ],
      "metadata": {
        "id": "ag_XEsMiBkbn"
      }
    },
    {
      "cell_type": "code",
      "source": [
        "B=np.linalg.inv(x.T.dot(x)).dot(x.T.dot(Y))\n",
        "B\n",
        "\n"
      ],
      "metadata": {
        "id": "zsYRA-WWacff",
        "colab": {
          "base_uri": "https://localhost:8080/"
        },
        "outputId": "e8c91757-a67d-40c7-b853-5b41d87a0d2e"
      },
      "execution_count": null,
      "outputs": [
        {
          "output_type": "execute_result",
          "data": {
            "text/plain": [
              "array([-3.39053946,  0.64427208,  0.0700954 ])"
            ]
          },
          "metadata": {},
          "execution_count": 29
        }
      ]
    },
    {
      "cell_type": "code",
      "source": [
        "Estimado=x@B\n",
        "Estimado"
      ],
      "metadata": {
        "colab": {
          "base_uri": "https://localhost:8080/"
        },
        "id": "AF8DspPFu3gu",
        "outputId": "2ec2b51e-fdf7-4404-e60a-65e76849c25a"
      },
      "execution_count": null,
      "outputs": [
        {
          "output_type": "execute_result",
          "data": {
            "text/plain": [
              "array([ 3.83664416,  5.88282415,  3.83664416,  4.84783456,  4.83139322,\n",
              "        7.54867231,  9.25778884,  4.69120242,  6.16320574,  9.10418453,\n",
              "        7.47857691,  5.19528371,  5.39215638,  5.60244257,  6.51368272,\n",
              "        7.89914929,  5.0416794 ,  6.10652385,  5.25196559,  6.8641597 ,\n",
              "        5.1117748 ,  6.37349193,  7.54867231,  4.55101163,  6.28998302,\n",
              "        7.12809993,  7.6888631 ,  9.09077102,  8.37640355,  2.39449571,\n",
              "        7.2414637 ,  5.76946039,  6.10652385,  4.83139322,  4.55101163,\n",
              "        8.45991246,  5.39215638,  1.92026928,  5.83955578,  5.1117748 ,\n",
              "        4.55101163,  5.74263336,  6.75079593,  6.85074619,  5.75604687,\n",
              "        7.67544959,  3.12227669,  6.8641597 ,  6.26012816,  5.39215638,\n",
              "        5.60244257,  7.12809993,  5.39215638,  4.83139322,  4.48091624,\n",
              "        6.48382786,  6.98790914,  2.67487729,  8.76712106,  7.40848152,\n",
              "        7.78881336,  8.57327622,  5.57561555,  3.96342144,  6.26012816,\n",
              "        7.45174989,  7.40848152,  6.09311034,  7.61876771,  4.55101163,\n",
              "        7.12809993,  8.75370755,  5.53234717,  5.74263336,  4.83139322,\n",
              "        6.66728702,  6.30339653,  4.48091624,  5.67253797,  9.11759804,\n",
              "        3.95000793,  7.12809993,  3.33256288,  4.83139322,  4.76129782,\n",
              "        5.25196559,  5.32206099,  5.32206099,  4.56745298,  5.1117748 ,\n",
              "        5.32206099,  8.43308543,  4.41082084,  4.48091624,  4.62110703,\n",
              "        3.73972174,  5.05509292,  6.72396891,  5.97974657,  4.55101163,\n",
              "        6.69411405,  5.32206099,  6.7940643 ,  4.90148861,  6.11993737,\n",
              "        7.04459103,  5.32206099,  6.7940643 ,  7.56511366,  8.05275359,\n",
              "        6.85074619, 10.23912438,  4.76129782,  6.68070053,  7.94241766,\n",
              "        4.10361223,  5.97974657,  4.83139322,  6.69411405,  4.07678521,\n",
              "        7.05800454,  5.90965118,  6.34363707,  6.37349193,  9.39797963,\n",
              "        8.10943548,  5.57561555,  3.93659442,  4.6643754 ,  4.60769352,\n",
              "        8.41664408,  7.32497261,  7.70530445,  4.11702574,  5.1818702 ,\n",
              "        4.69120242,  6.96108212,  7.54867231,  0.63172513,  7.59194068,\n",
              "        8.53000785,  4.48091624,  5.39215638,  5.3354745 ,  5.60244257,\n",
              "        6.41373246,  3.26246748,  6.51368272,  8.31972166,  7.36824098,\n",
              "        2.7583862 ,  5.1117748 ,  7.15795479,  4.90148861,  4.48091624,\n",
              "        6.89098672,  7.12809993,  7.12809993,  2.6882908 ,  8.48673948,\n",
              "        3.12227669,  3.12227669,  6.94766861,  7.63520905,  9.11759804,\n",
              "        5.12518831,  7.70530445,  5.40556989,  5.54576069,  6.73738242,\n",
              "        9.11759804,  4.90148861,  5.67253797,  5.05509292,  7.35482747,\n",
              "        5.67253797,  5.1117748 ,  8.64337162,  6.13637871,  5.88282415,\n",
              "        7.12809993,  7.12809993,  7.21463668,  5.97974657,  5.32206099,\n",
              "        6.02301495,  6.30339653,  6.09311034,  4.55101163,  5.1117748 ,\n",
              "        4.83139322,  7.54867231,  7.26829073,  6.26012816,  3.76654876,\n",
              "        7.05800454,  5.25196559,  5.0416794 ,  7.9125628 ,  6.44358732,\n",
              "        6.51368272,  6.98790914,  2.39449571,  5.0416794 ,  7.00435049,\n",
              "        5.67253797,  7.26829073,  6.16320574,  6.7940643 ,  2.54810001,\n",
              "        5.05509292,  8.24962627,  5.83955578,  4.2870714 ,  7.66203608,\n",
              "        5.05509292,  7.00435049,  8.27645329,  4.4406757 ,  4.2870714 ,\n",
              "        2.04401873,  7.49501826,  7.17136831,  5.74263336,  7.26829073,\n",
              "        2.81506808,  5.68595148,  2.61819541,  8.03934008,  7.00435049,\n",
              "        8.58668974,  3.83664416,  6.04984197,  5.67253797,  6.37349193,\n",
              "        4.48091624,  8.41664408,  4.62110703,  5.0416794 ,  4.62110703,\n",
              "        5.32206099,  5.39215638,  5.67253797,  6.82089133,  8.95058023,\n",
              "        4.48091624,  5.97974657,  6.36007841,  4.55101163,  6.3466649 ,\n",
              "        4.83139322,  3.7695766 ,  6.59719163,  5.1818702 ,  3.82323065,\n",
              "        6.09311034,  6.04984197,  5.19528371,  5.32206099,  9.11759804,\n",
              "        4.97158401,  4.41082084,  4.76129782,  5.1117748 ,  7.63520905,\n",
              "        5.19831154,  7.57852717,  5.12518831,  6.11993737,  5.88282415,\n",
              "        3.61294446,  6.98790914,  7.35482747,  7.05800454,  4.48091624,\n",
              "        5.69936499,  8.27645329,  9.38456612,  5.05509292,  8.22279925,\n",
              "        7.11468642,  8.50318083,  6.02301495,  4.42726219,  5.60244257,\n",
              "        6.16320574,  4.91792996,  6.23330113,  2.54810001,  7.21463668,\n",
              "        7.6888631 ,  4.69120242,  7.12809993,  4.55101163,  4.62110703,\n",
              "        6.45700083,  5.43542476,  3.90976739,  4.76129782,  6.16320574,\n",
              "        7.54867231,  5.95291955,  4.07678521,  4.69120242,  3.90976739,\n",
              "        2.55112785,  6.14979223,  5.30864748,  2.94184536,  5.46225178,\n",
              "        9.818552  ,  6.8641597 ,  7.19819533,  5.0416794 ,  6.89098672,\n",
              "        4.55101163,  3.54284906,  3.54284906,  4.72105728,  5.43542476,\n",
              "        4.90148861,  5.53234717,  4.48091624,  3.40265827,  9.79172498,\n",
              "        9.3711526 ,  7.6888631 ,  4.62110703,  5.1818702 ,  3.57270392,\n",
              "        4.07678521,  7.47857691,  7.05800454,  8.76712106,  7.017764  ,\n",
              "        4.03351684,  8.74029404,  6.40031895,  7.61876771,  5.25196559,\n",
              "        4.02010332,  3.76654876,  6.14979223,  4.69120242,  4.60769352,\n",
              "        5.88282415,  5.81272876,  5.67253797,  5.25196559,  6.68070053,\n",
              "        5.83955578,  8.62693027,  4.76129782,  5.46225178,  6.51368272,\n",
              "        3.76654876,  4.69120242,  7.77237201,  7.6888631 ,  5.40556989,\n",
              "        5.75604687,  4.83139322,  5.97974657,  5.97974657,  3.83664416,\n",
              "        6.13637871,  4.84783456,  6.54050974,  6.16320574,  3.19237208,\n",
              "        8.26303978,  2.54810001,  6.7940643 ,  4.76129782,  6.19003276,\n",
              "        6.98790914,  5.32206099,  4.03351684, -1.84844075,  6.19003276,\n",
              "        6.34363707,  7.96924468,  5.32206099,  6.28998302,  3.76654876,\n",
              "        4.62110703,  7.017764  ,  7.49501826,  6.52709623,  9.86182038,\n",
              "        6.90440023,  7.47857691,  8.44649894,  6.02301495,  9.32788423,\n",
              "        0.89566537,  1.45642853,  7.63520905,  6.72396891,  7.33838612,\n",
              "        2.89857699,  6.23330113,  5.37874287,  4.31389842,  5.1818702 ,\n",
              "        3.65621283,  5.84258362,  7.8424674 ,  8.60010325,  3.90673956,\n",
              "        3.19237208,  3.79640362,  7.36824098,  6.33022355,  5.3354745 ,\n",
              "        3.83664416,  3.85308551,  7.26829073,  5.32206099,  5.54576069,\n",
              "        6.33022355,  7.05800454,  6.26012816,  3.76654876,  4.91792996,\n",
              "        7.94241766,  9.03408914,  3.19237208,  4.97158401,  6.65387351,\n",
              "        9.32788423,  6.33022355,  8.83721646,  4.90148861,  7.54867231,\n",
              "        7.2414637 ,  5.95291955,  3.95000793,  6.93425509,  5.88282415,\n",
              "        9.52475691,  5.32206099,  7.60535419,  8.26303978,  8.67019864,\n",
              "        5.81272876,  8.51659434,  8.38981706,  6.8641597 ,  6.41373246,\n",
              "        5.1117748 ,  7.14454128,  5.1117748 ,  4.97158401,  8.53000785,\n",
              "        3.76654876,  7.73213147,  8.50318083,  5.40556989,  6.40031895,\n",
              "        7.35482747,  7.07444589,  5.26840694,  6.16320574,  2.11714196,\n",
              "        3.90673956,  6.48382786,  4.74788431,  5.53234717,  1.70998309,\n",
              "        4.58086649,  4.97158401,  7.28473207,  3.90673956,  6.93425509,\n",
              "        8.53000785,  6.45700083,  7.04459103,  9.3711526 ,  7.28473207,\n",
              "        4.55101163,  5.25196559,  3.38924476,  4.03351684,  7.07444589,\n",
              "        4.46750272,  3.72630823,  1.73681012,  7.33838612,  6.16320574,\n",
              "        5.81272876,  9.30105721,  5.53234717,  3.19237208,  5.3354745 ,\n",
              "        5.05509292,  8.43308543,  9.65153419,  3.12227669,  5.32206099,\n",
              "        4.48091624,  3.83664416, -0.44653283,  2.21406438,  7.61876771,\n",
              "        7.19819533,  2.6882908 ,  7.74554499,  6.51368272,  5.74263336,\n",
              "        6.8641597 ,  5.47566529,  5.39215638,  2.87174997,  8.05275359,\n",
              "        5.53234717,  4.55101163,  6.47041435,  5.60244257,  8.27948113,\n",
              "        4.48091624,  7.89914929,  3.19237208,  7.18478182,  7.26829073,\n",
              "        5.97974657])"
            ]
          },
          "metadata": {},
          "execution_count": 32
        }
      ]
    },
    {
      "cell_type": "code",
      "source": [
        "error=Y-Estimado \n",
        "error"
      ],
      "metadata": {
        "colab": {
          "base_uri": "https://localhost:8080/"
        },
        "id": "iSkhBKI7vEjU",
        "outputId": "5a7892e0-8246-427b-d617-d52f498a665b"
      },
      "execution_count": null,
      "outputs": [
        {
          "output_type": "execute_result",
          "data": {
            "text/plain": [
              "0     -0.736644\n",
              "1     -2.642824\n",
              "2     -0.836644\n",
              "3      1.152165\n",
              "4      0.468607\n",
              "         ...   \n",
              "521    7.100851\n",
              "522   -0.922372\n",
              "523   -2.514782\n",
              "524    4.291710\n",
              "525   -2.479747\n",
              "Name: wage, Length: 526, dtype: float64"
            ]
          },
          "metadata": {},
          "execution_count": 33
        }
      ]
    },
    {
      "cell_type": "code",
      "source": [
        "Var= sum(error**2)/523 \n",
        "Var"
      ],
      "metadata": {
        "colab": {
          "base_uri": "https://localhost:8080/"
        },
        "id": "zUjrfwA9vfEO",
        "outputId": "07bf87de-44a5-419e-e255-9ae9fad5574b"
      },
      "execution_count": null,
      "outputs": [
        {
          "output_type": "execute_result",
          "data": {
            "text/plain": [
              "10.608336116213543"
            ]
          },
          "metadata": {},
          "execution_count": 34
        }
      ]
    },
    {
      "cell_type": "code",
      "source": [
        "x.T @ x"
      ],
      "metadata": {
        "colab": {
          "base_uri": "https://localhost:8080/"
        },
        "id": "Qg4Ra3LuvmVn",
        "outputId": "34d633de-bcfc-44c2-f6af-e8e2b525252a"
      },
      "execution_count": null,
      "outputs": [
        {
          "output_type": "execute_result",
          "data": {
            "text/plain": [
              "array([[   526.,   6608.,   8951.],\n",
              "       [  6608.,  87040., 106539.],\n",
              "       [  8951., 106539., 249027.]])"
            ]
          },
          "metadata": {},
          "execution_count": 35
        }
      ]
    },
    {
      "cell_type": "code",
      "source": [
        "f= x.T.dot(x)\n",
        "inverF= np.linalg.inv(f)\n",
        "inverF"
      ],
      "metadata": {
        "colab": {
          "base_uri": "https://localhost:8080/"
        },
        "id": "Jn8JOo_2vsrl",
        "outputId": "74c96a45-64f1-4122-bd31-ae25acc7e36c"
      },
      "execution_count": null,
      "outputs": [
        {
          "output_type": "execute_result",
          "data": {
            "text/plain": [
              "array([[ 5.53926242e-02, -3.71227943e-03, -4.02835200e-04],\n",
              "       [-3.71227943e-03,  2.72907389e-04,  1.66782433e-05],\n",
              "       [-4.02835200e-04,  1.66782433e-05,  1.13597903e-05]])"
            ]
          },
          "metadata": {},
          "execution_count": 39
        }
      ]
    },
    {
      "cell_type": "markdown",
      "source": [
        "B. Calcule los errores estándar"
      ],
      "metadata": {
        "id": "_7gq5cIABtL6"
      }
    },
    {
      "cell_type": "code",
      "source": [
        "error_est= np.diag(np.sqrt(Var*inverF))\n",
        "error_est"
      ],
      "metadata": {
        "colab": {
          "base_uri": "https://localhost:8080/"
        },
        "id": "rmhxSvPLv148",
        "outputId": "9c4a3edb-f8ae-459c-f952-3d33c7a727c3"
      },
      "execution_count": null,
      "outputs": [
        {
          "output_type": "stream",
          "name": "stderr",
          "text": [
            "<ipython-input-42-3d601b1e16fd>:1: RuntimeWarning: invalid value encountered in sqrt\n",
            "  error_est= np.diag(np.sqrt(Var*inverF))\n"
          ]
        },
        {
          "output_type": "execute_result",
          "data": {
            "text/plain": [
              "array([0.76656609, 0.05380607, 0.01097764])"
            ]
          },
          "metadata": {},
          "execution_count": 42
        }
      ]
    },
    {
      "cell_type": "markdown",
      "source": [
        "C. Calcule los estadísticos t"
      ],
      "metadata": {
        "id": "xqjnTeAgBxko"
      }
    },
    {
      "cell_type": "code",
      "source": [
        "T=B/error_est\n",
        "T"
      ],
      "metadata": {
        "colab": {
          "base_uri": "https://localhost:8080/"
        },
        "id": "UKHCfzdCwKPY",
        "outputId": "38613588-f55f-4b82-87b4-e3f64b06ffbc"
      },
      "execution_count": null,
      "outputs": [
        {
          "output_type": "execute_result",
          "data": {
            "text/plain": [
              "array([-4.423023  , 11.97396614,  6.38529107])"
            ]
          },
          "metadata": {},
          "execution_count": 43
        }
      ]
    },
    {
      "cell_type": "markdown",
      "source": [
        "D. Calcule los intervalos de confianza"
      ],
      "metadata": {
        "id": "zTuvi3BIB0ls"
      }
    },
    {
      "cell_type": "code",
      "source": [
        "IC= B- 1.96*error_est\n",
        "IC"
      ],
      "metadata": {
        "colab": {
          "base_uri": "https://localhost:8080/"
        },
        "id": "U8rJPdSqyfZH",
        "outputId": "98cd816a-e5bc-4144-db5d-f827b1995702"
      },
      "execution_count": null,
      "outputs": [
        {
          "output_type": "execute_result",
          "data": {
            "text/plain": [
              "array([-4.89300901,  0.53881218,  0.04857923])"
            ]
          },
          "metadata": {},
          "execution_count": 46
        }
      ]
    },
    {
      "cell_type": "code",
      "source": [
        "IC2=B+1.96*error_est\n",
        "IC2"
      ],
      "metadata": {
        "colab": {
          "base_uri": "https://localhost:8080/"
        },
        "id": "5bzCNo3MzmLa",
        "outputId": "f0cfdc68-0417-4a62-d0fb-456ce8b049ac"
      },
      "execution_count": null,
      "outputs": [
        {
          "output_type": "execute_result",
          "data": {
            "text/plain": [
              "array([-1.88806992,  0.74973198,  0.09161156])"
            ]
          },
          "metadata": {},
          "execution_count": 47
        }
      ]
    },
    {
      "cell_type": "markdown",
      "source": [
        "5. Interprete los coeficientes y determine la significancia estadística.\n"
      ],
      "metadata": {
        "id": "ijCc8EcHB3J-"
      }
    },
    {
      "cell_type": "markdown",
      "source": [
        "Y^ = -3.3905^ + 0.6443 educ^ +0.0701 exper^\n",
        "\n",
        "Entendiendo que el modelo es LIN LIN, se puede interpretar que:\n",
        "\n",
        "a) Educ: Un incremento en un año de educación tiene un efecto de aumento en el salario de 0.6443 dólares.\n",
        "b) exper: Un incremento en un año de experiencia, tiene un efecto de aumento en el salario de un 0.0701 dólares.\n",
        "En cuanto a la hipótesis nula y alternativa, decimos que:\n",
        "\n",
        "H0:\\Bjfm=\\Bjfn \n",
        "H1:\\Bjfm≠\\Bjfn \n",
        "\n",
        "Considerando que la significancia estádistica de las variables independientes son evaluadas de acuerdo con los intervalos de confianza, en donde el límite inferior es 0,025 y el superior 0,975, se puede concluir que:\n",
        "\n",
        "a) educ: es estadisticamente signicativo, por lo que, se rechaza la hipótesis nula, ya que, estos límites no se encuentran dentro del 0.\n",
        "b)exper: es estadisticamente signicativo, por lo que, se rechaza la hipótesis nula, ya que, estos límites no se encuentran dentro del 0.\n",
        "Por lo tanto, las dos variables son estadisticamente signicativas, es decir, estas pueden afectar al salario (dependiente).\n"
      ],
      "metadata": {
        "id": "jLcg9vtYCF0w"
      }
    },
    {
      "cell_type": "code",
      "source": [],
      "metadata": {
        "id": "6FO92G00CGei"
      },
      "execution_count": null,
      "outputs": []
    }
  ]
}